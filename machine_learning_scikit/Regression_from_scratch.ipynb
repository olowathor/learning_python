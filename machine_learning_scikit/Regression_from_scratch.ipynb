{
 "cells": [
  {
   "cell_type": "code",
   "execution_count": 1,
   "metadata": {
    "collapsed": false
   },
   "outputs": [],
   "source": [
    "from statistics import mean\n",
    "import numpy as np\n",
    "import random\n",
    "import matplotlib.pyplot as plt\n",
    "from matplotlib import style\n",
    "\n",
    "style.use('fivethirtyeight')\n",
    "\n",
    "%matplotlib inline"
   ]
  },
  {
   "cell_type": "code",
   "execution_count": 2,
   "metadata": {
    "collapsed": false
   },
   "outputs": [],
   "source": [
    "#xs = np.array([random.randint(0,9) for i in range(20)], dtype=np.float64)\n",
    "#ys = np.array([random.randint(0,9) for i in range(20)], dtype=np.float64)"
   ]
  },
  {
   "cell_type": "code",
   "execution_count": 20,
   "metadata": {
    "collapsed": false
   },
   "outputs": [],
   "source": [
    "def create_dataset(num_el, variance, step=2, correlation=False):\n",
    "    val = 1\n",
    "    ys = []\n",
    "    \n",
    "    for i in range(num_el):\n",
    "        y = val + random.randrange(-variance, variance)\n",
    "        ys.append(y)\n",
    "        if correlation and correlation == 'pos':\n",
    "            val += step\n",
    "        elif correlation and correlation == 'neg':\n",
    "            val -= step\n",
    "    \n",
    "    xs = [i for i in range(num_el)] #[i[0] for i in enumerate(ys)]\n",
    "    \n",
    "    return np.array(xs, dtype=np.float64), np.array(ys, dtype=np.float64)\n",
    "\n",
    "def best_fit_slope_and_intercept(xs,ys):\n",
    "    m = ((mean(xs) * mean(ys)) - mean(xs * ys)) / ((mean(xs))**2 - mean(xs**2))\n",
    "    b = mean(ys) - (m * mean(xs))  \n",
    "    return m,b\n",
    "\n",
    "def squared_error(ys, ys_line):\n",
    "    return sum((ys_line - ys)**2)\n",
    "\n",
    "def coeff_of_determination(ys, ys_line):\n",
    "    y_mean_line = [mean(ys) for y in ys]\n",
    "    sq_error_regr = squared_error(ys, ys_line)\n",
    "    sq_error_y_mean = squared_error(ys, y_mean_line)\n",
    "    \n",
    "    return 1 - (sq_error_regr / sq_error_y_mean)"
   ]
  },
  {
   "cell_type": "code",
   "execution_count": 27,
   "metadata": {
    "collapsed": false
   },
   "outputs": [
    {
     "name": "stdout",
     "output_type": "stream",
     "text": [
      "0.957481428904\n"
     ]
    }
   ],
   "source": [
    "xs, ys = create_dataset(40, 10, 2, 'pos')\n",
    "\n",
    "m, b = best_fit_slope_and_intercept(xs,ys)\n",
    "regression_line = [(m * x) + b for x in xs]\n",
    "\n",
    "r_squared = coeff_of_determination(ys, regression_line)\n",
    "print(r_squared)"
   ]
  },
  {
   "cell_type": "code",
   "execution_count": 28,
   "metadata": {
    "collapsed": true
   },
   "outputs": [],
   "source": [
    "predict_x = max(xs) + 10\n",
    "predict_y = (m*predict_x) + b"
   ]
  },
  {
   "cell_type": "code",
   "execution_count": 29,
   "metadata": {
    "collapsed": false
   },
   "outputs": [
    {
     "data": {
      "image/png": "[encoded data removed]",
      "text/plain": [
       "<matplotlib.figure.Figure at 0x7fb6ce160dd8>"
      ]
     },
     "metadata": {},
     "output_type": "display_data"
    }
   ],
   "source": [
    "plt.scatter(xs,ys)\n",
    "plt.scatter(predict_x, predict_y, s=111, color='r')\n",
    "plt.plot(xs, regression_line)\n",
    "plt.show()"
   ]
  },
  {
   "cell_type": "code",
   "execution_count": null,
   "metadata": {
    "collapsed": true
   },
   "outputs": [],
   "source": []
  }
 ],
 "metadata": {
  "kernelspec": {
   "display_name": "Python 3",
   "language": "python",
   "name": "python3"
  },
  "language_info": {
   "codemirror_mode": {
    "name": "ipython",
    "version": 3
   },
   "file_extension": ".py",
   "mimetype": "text/x-python",
   "name": "python",
   "nbconvert_exporter": "python",
   "pygments_lexer": "ipython3",
   "version": "3.5.2"
  }
 },
 "nbformat": 4,
 "nbformat_minor": 0
}
