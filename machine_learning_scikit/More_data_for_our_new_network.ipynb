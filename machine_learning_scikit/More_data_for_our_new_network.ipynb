{
 "cells": [
  {
   "cell_type": "code",
   "execution_count": null,
   "metadata": {
    "collapsed": true
   },
   "outputs": [],
   "source": [
    "import nltk\n",
    "from nltk.tokenize import word_tokenize\n",
    "from nltk.stem import WordNetLemmatizer\n",
    "import pickle\n",
    "import numpy as np\n",
    "import pandas as pd"
   ]
  },
  {
   "cell_type": "code",
   "execution_count": null,
   "metadata": {
    "collapsed": true
   },
   "outputs": [],
   "source": [
    "lemmatizer = WordNetLemmatizer()\n",
    "\n",
    "'''\n",
    "polarity 0 = negative. 2 = neutral. 4 = positive.\n",
    "id\n",
    "date\n",
    "query\n",
    "user\n",
    "tweet\n",
    "'''\n",
    "\n",
    "def init_process(fin,fout):\n",
    "    outfile = open(fout,'a')\n",
    "    with open(fin, buffering=200000, encoding='latin-1') as f:\n",
    "        try:\n",
    "            for line in f:\n",
    "                line = line.replace('\"','')\n",
    "                initial_polarity = line.split(',')[0]\n",
    "                if initial_polarity == '0':\n",
    "                    initial_polarity = [1,0]\n",
    "                elif initial_polarity == '4':\n",
    "                    initial_polarity = [0,1]\n",
    "\n",
    "                tweet = line.split(',')[-1]\n",
    "                outline = str(initial_polarity)+':::'+tweet\n",
    "                outfile.write(outline)\n",
    "        except Exception as e:\n",
    "            print(str(e))\n",
    "    outfile.close()"
   ]
  },
  {
   "cell_type": "code",
   "execution_count": null,
   "metadata": {
    "collapsed": true
   },
   "outputs": [],
   "source": [
    "init_process('training.1600000.processed.noemoticon.csv','train_set.csv')\n",
    "init_process('testdata.manual.2009.06.14.csv','test_set.csv')"
   ]
  },
  {
   "cell_type": "code",
   "execution_count": null,
   "metadata": {
    "collapsed": true
   },
   "outputs": [],
   "source": [
    "def create_lexicon(fin):\n",
    "    lexicon = []\n",
    "    with open(fin, 'r', buffering=100000, encoding='latin-1') as f:\n",
    "        try:\n",
    "            counter = 1\n",
    "            content = ''\n",
    "            for line in f:\n",
    "                counter += 1\n",
    "                if (counter/2500.0).is_integer():\n",
    "                    tweet = line.split(':::')[1]\n",
    "                    content += ' '+tweet\n",
    "                    words = word_tokenize(content)\n",
    "                    words = [lemmatizer.lemmatize(i) for i in words]\n",
    "                    lexicon = list(set(lexicon + words))\n",
    "                    print(counter, len(lexicon))\n",
    "\n",
    "        except Exception as e:\n",
    "            print(str(e))\n",
    "\n",
    "    with open('lexicon.pickle','wb') as f:\n",
    "        pickle.dump(lexicon,f)"
   ]
  },
  {
   "cell_type": "code",
   "execution_count": null,
   "metadata": {
    "collapsed": true
   },
   "outputs": [],
   "source": [
    "create_lexicon('train_set.csv')"
   ]
  },
  {
   "cell_type": "code",
   "execution_count": null,
   "metadata": {
    "collapsed": true
   },
   "outputs": [],
   "source": [
    "def create_test_data_pickle(fin):\n",
    "\n",
    "    feature_sets = []\n",
    "    labels = []\n",
    "    counter = 0\n",
    "    with open(fin, buffering=20000) as f:\n",
    "        for line in f:\n",
    "            try:\n",
    "                features = list(eval(line.split('::')[0]))\n",
    "                label = list(eval(line.split('::')[1]))\n",
    "\n",
    "                feature_sets.append(features)\n",
    "                labels.append(label)\n",
    "                counter += 1\n",
    "            except:\n",
    "                pass\n",
    "    print(counter)\n",
    "    feature_sets = np.array(feature_sets)\n",
    "    labels = np.array(labels)"
   ]
  },
  {
   "cell_type": "code",
   "execution_count": null,
   "metadata": {
    "collapsed": true
   },
   "outputs": [],
   "source": [
    "create_test_data_pickle('processed-test-set.csv')"
   ]
  }
 ],
 "metadata": {
  "kernelspec": {
   "display_name": "Python 3",
   "language": "python",
   "name": "python3"
  },
  "language_info": {
   "codemirror_mode": {
    "name": "ipython",
    "version": 3
   },
   "file_extension": ".py",
   "mimetype": "text/x-python",
   "name": "python",
   "nbconvert_exporter": "python",
   "pygments_lexer": "ipython3",
   "version": "3.5.2"
  }
 },
 "nbformat": 4,
 "nbformat_minor": 2
}
