{
 "cells": [
  {
   "cell_type": "code",
   "execution_count": 1,
   "metadata": {
    "collapsed": true
   },
   "outputs": [],
   "source": [
    "import numpy as np\n",
    "import pandas as pd\n",
    "from sklearn import preprocessing, cross_validation\n",
    "\n",
    "import matplotlib.pyplot as plt\n",
    "from matplotlib import style\n",
    "style.use('ggplot')\n",
    "%matplotlib inline"
   ]
  },
  {
   "cell_type": "code",
   "execution_count": 16,
   "metadata": {
    "collapsed": false
   },
   "outputs": [],
   "source": [
    "'''\n",
    "X = np.array([[1, 2],[1.5, 1.8],[5, 8],\n",
    "             [8, 8],[1, 0.6],[9, 11]])\n",
    "\n",
    "plt.scatter(X[:, 0], X[:, 1], s=150, linewidths=5)\n",
    "plt.show()\n",
    "\n",
    "colors = [\"g\", \"r\", \"c\", \"b\", \"k\"]\n",
    "'''\n",
    "\n",
    "df = pd.read_excel('titanic.xls')"
   ]
  },
  {
   "cell_type": "code",
   "execution_count": 17,
   "metadata": {
    "collapsed": false
   },
   "outputs": [
    {
     "name": "stderr",
     "output_type": "stream",
     "text": [
      "/home/olowathor/miniconda3/lib/python3.5/site-packages/ipykernel/__main__.py:2: FutureWarning: convert_objects is deprecated.  Use the data-type specific converters pd.to_datetime, pd.to_timedelta and pd.to_numeric.\n",
      "  from ipykernel import kernelapp as app\n"
     ]
    }
   ],
   "source": [
    "df.drop(['body','name'], 1, inplace=True)\n",
    "df.convert_objects(convert_numeric=True)\n",
    "df.fillna(0, inplace=True)"
   ]
  },
  {
   "cell_type": "code",
   "execution_count": 18,
   "metadata": {
    "collapsed": true
   },
   "outputs": [],
   "source": [
    "def handle_non_numerical_data(df):\n",
    "    columns = df.columns.values\n",
    "    \n",
    "    for column in columns:\n",
    "        text_digit_vals = {}\n",
    "        def convert_to_int(val):\n",
    "            return text_digit_vals[val]\n",
    "        \n",
    "        if df[column].dtype != np.int64 or df[column].dtype != np.float64:\n",
    "            column_contents = df[column].values.tolist()\n",
    "            unique_elements = set(column_contents)\n",
    "            x = 0\n",
    "            for unique in unique_elements:\n",
    "                if unique not in text_digit_vals:\n",
    "                    text_digit_vals[unique] = x\n",
    "                    x += 1\n",
    "                    \n",
    "            df[column] = list(map(convert_to_int, df[column]))\n",
    "            \n",
    "    return df"
   ]
  },
  {
   "cell_type": "code",
   "execution_count": 19,
   "metadata": {
    "collapsed": false
   },
   "outputs": [
    {
     "name": "stdout",
     "output_type": "stream",
     "text": [
      "   pclass  survived  sex  age  sibsp  parch  fare  cabin  embarked  boat\n",
      "0       0         1    0   30      0      0   176     70         3     1\n",
      "1       0         1    1   92      1      2   133     49         3    22\n",
      "2       0         0    0    2      1      2   133     49         3     0\n",
      "3       0         0    1   31      1      2   133     49         3     0\n",
      "4       0         0    0   25      1      2   133     49         3     0\n"
     ]
    }
   ],
   "source": [
    "df = handle_non_numerical_data(df)\n",
    "\n",
    "df.drop(['ticket','home.dest'], 1, inplace=True)\n",
    "#df.drop(['boat'], 1, inplace=True)\n",
    "print(df.head())\n",
    "\n",
    "X = np.array(df.drop(['survived'],1).astype(float))\n",
    "X = preprocessing.scale(X)\n",
    "y = np.array(df['survived'])"
   ]
  },
  {
   "cell_type": "code",
   "execution_count": 20,
   "metadata": {
    "collapsed": true
   },
   "outputs": [],
   "source": [
    "class K_Means:\n",
    "    def __init__(self, k=2, tol=0.001, max_iter=300):\n",
    "        self.k = k\n",
    "        self. tol = tol\n",
    "        self. max_iter = max_iter\n",
    "    \n",
    "    def fit(self, data):\n",
    "        self.centroids = {}\n",
    "        \n",
    "        for i in range(self.k):\n",
    "            self.centroids[i] = data[i]\n",
    "            \n",
    "        for i in range(self.max_iter):\n",
    "            self.classifications = {}\n",
    "            \n",
    "            for j in range(self.k):\n",
    "                self.classifications[j] = []\n",
    "                \n",
    "            for featureset in data:\n",
    "                distances = [np.linalg.norm(featureset-self.centroids[centroid]) for centroid in self.centroids]\n",
    "                classification = distances.index(min(distances))\n",
    "                self.classifications[classification].append(featureset)\n",
    "            \n",
    "            prev_centroids = dict(self.centroids)\n",
    "            \n",
    "            for classification in self.classifications:\n",
    "                self.centroids[classification] = np.average(self.classifications[classification], axis=0)\n",
    "            optimized = True\n",
    "            \n",
    "            for c in self.centroids:\n",
    "                original_centroid = prev_centroids[c]\n",
    "                current_centroid = self.centroids[c]\n",
    "                if (np.sum((current_centroid - original_centroid) / original_centroid * 100.0)) > self.tol:\n",
    "                    optimized = False\n",
    "                    \n",
    "            if optimized:\n",
    "                break\n",
    "\n",
    "    def predict(self, data):\n",
    "        distances = [np.linalg.norm(data-self.centroids[centroid]) for centroid in self.centroids]\n",
    "        classification = distances.index(min(distances))\n",
    "        return classification\n"
   ]
  },
  {
   "cell_type": "code",
   "execution_count": 21,
   "metadata": {
    "collapsed": false
   },
   "outputs": [
    {
     "name": "stdout",
     "output_type": "stream",
     "text": [
      "0.6371275783040489\n"
     ]
    },
    {
     "data": {
      "text/plain": [
       "'\\nfor centroid in clf.centroids:\\n    plt.scatter(clf.centroids[centroid][0], clf.centroids[centroid][1],\\n               marker=\\'o\\', color=\\'k\\', s=150, linewidths=5)\\n    \\nfor classification in clf.classifications:\\n    color = colors[classification]\\n    for featureset in clf.classifications[classification]:\\n        plt.scatter(featureset[0], featureset[1], marker=\\'x\\', color=color, s=150, linewidths=5)\\n\\nunknowns = np.array([[1,3], [8,9], [0,3], [5,4], [6,4]])\\n\\nfor unknown in unknowns:\\n    classification = clf.predict(unknown)\\n    #print(classification)\\n    plt.scatter(unknown[0], unknown[1], marker=\"*\", color=colors[classification], s=150, linewidths=5)\\n        \\nplt.show()\\n'"
      ]
     },
     "execution_count": 21,
     "metadata": {},
     "output_type": "execute_result"
    }
   ],
   "source": [
    "clf = K_Means()\n",
    "clf.fit(X)\n",
    "\n",
    "correct = 0\n",
    "for i in range(len(X)):\n",
    "\n",
    "    predict_me = np.array(X[i].astype(float))\n",
    "    predict_me = predict_me.reshape(-1, len(predict_me))\n",
    "    prediction = clf.predict(predict_me)\n",
    "    if prediction == y[i]:\n",
    "        correct += 1\n",
    "\n",
    "\n",
    "print(correct/len(X))\n",
    "\n",
    "'''\n",
    "for centroid in clf.centroids:\n",
    "    plt.scatter(clf.centroids[centroid][0], clf.centroids[centroid][1],\n",
    "               marker='o', color='k', s=150, linewidths=5)\n",
    "    \n",
    "for classification in clf.classifications:\n",
    "    color = colors[classification]\n",
    "    for featureset in clf.classifications[classification]:\n",
    "        plt.scatter(featureset[0], featureset[1], marker='x', color=color, s=150, linewidths=5)\n",
    "\n",
    "unknowns = np.array([[1,3], [8,9], [0,3], [5,4], [6,4]])\n",
    "\n",
    "for unknown in unknowns:\n",
    "    classification = clf.predict(unknown)\n",
    "    #print(classification)\n",
    "    plt.scatter(unknown[0], unknown[1], marker=\"*\", color=colors[classification], s=150, linewidths=5)\n",
    "        \n",
    "plt.show()\n",
    "'''"
   ]
  },
  {
   "cell_type": "code",
   "execution_count": null,
   "metadata": {
    "collapsed": true
   },
   "outputs": [],
   "source": []
  }
 ],
 "metadata": {
  "kernelspec": {
   "display_name": "Python 3",
   "language": "python",
   "name": "python3"
  },
  "language_info": {
   "codemirror_mode": {
    "name": "ipython",
    "version": 3
   },
   "file_extension": ".py",
   "mimetype": "text/x-python",
   "name": "python",
   "nbconvert_exporter": "python",
   "pygments_lexer": "ipython3",
   "version": "3.5.2"
  }
 },
 "nbformat": 4,
 "nbformat_minor": 0
}
